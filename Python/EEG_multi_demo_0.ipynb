{
 "cells": [
  {
   "metadata": {},
   "cell_type": "markdown",
   "source": [
    "This is the jupyter notebook that replicates the results for the real data studies.\n",
    "\n",
    "I chose one participant (K178) to show the logic and procedure of real EEG data study.\n",
    "\n",
    "Due to the data confidentiality, we cannot provide the real dataset here, so we created 2 folders:\n",
    "- `\"./EEG_multi/K178\"`\n",
    "- `\"./EEG_multi_ref/K178\"`\n",
    "\n",
    "and put the datasets after the xDAWN transformation in each folder:\n",
    "- `'K178_TRN_xDAWN.mat'`\n",
    "- `'K178_FRT_xDAWN.mat'`\n",
    "\n",
    "When I created this jupyter notebook, I used PyCharm and installed relevant packages under a virtual environment, denoted as \".venv\".\n",
    "\n",
    "The Python version is 3.11.8 and R version is 4.4.3.\n"
   ],
   "id": "2eaf71283ef49b60"
  },
  {
   "metadata": {},
   "cell_type": "markdown",
   "source": [
    "### 1 SMGP Model Fitting\n",
    "\n",
    "Make sure you have installed the following Python modules:\n",
    "\n",
    "- numpy, pandas, scipy, seaborn, matplotlib, os\n",
    "- tqdm\n",
    "- jax, numpyro\n",
    "- sklearn, math\n",
    "- pickle\n",
    "\n",
    "Before running this file, you need to change the directory `\"file_path\"` to your own first."
   ],
   "id": "719e521f1b45715c"
  },
  {
   "metadata": {
    "ExecuteTime": {
     "end_time": "2025-05-27T10:23:33.896698Z",
     "start_time": "2025-05-27T09:49:01.320389Z"
    }
   },
   "cell_type": "code",
   "source": "%run -i \"E:/MSPH/EEG methodology/Advanced EEG Code/Code for GitHub/SMGP_BCI_EEG/Python/EEG_multi_pyro_GP_0.py\"",
   "id": "initial_id",
   "outputs": [
    {
     "name": "stderr",
     "output_type": "stream",
     "text": [
      "E:\\MSPH\\EEG methodology\\Advanced EEG Code\\Code for GitHub\\SMGP_BCI_EEG\\Python\\model_Func.py:518: UserWarning: There are not enough devices to run parallel chains: expected 2 but got 1. Chains will be drawn sequentially. If you are running MCMC in CPU, consider using `numpyro.set_host_device_count(2)` at the beginning of your program. You can double-check how many devices are available in your system using `jax.local_device_count()`.\n",
      "  mcmc = MCMC(kernel, num_samples=1000, num_warmup=2000, num_chains=2)\n",
      "sample: 100%|██████████| 3000/3000 [16:36<00:00,  3.01it/s, 255 steps of size 4.03e-02. acc. prob=0.92]  \n",
      "sample: 100%|██████████| 3000/3000 [17:40<00:00,  2.83it/s, 63 steps of size 4.30e-02. acc. prob=0.91]   \n"
     ]
    },
    {
     "name": "stdout",
     "output_type": "stream",
     "text": [
      "Parameter: omega_1, Before Shape: (2000, 25)\n",
      "Parameter: omega_2, Before Shape: (2000, 25)\n",
      "Parameter: psi_0_1, Before Shape: (2000,)\n",
      "Parameter: psi_0_2, Before Shape: (2000,)\n",
      "Parameter: psi_1_1, Before Shape: (2000,)\n",
      "Parameter: psi_1_2, Before Shape: (2000,)\n",
      "Parameter: rho_e, Before Shape: (2000,)\n",
      "Parameter: rho_t, Before Shape: (2000,)\n",
      "Parameter: sigma_rho_1, Before Shape: (2000,)\n",
      "Parameter: sigma_rho_2, Before Shape: (2000,)\n",
      "Parameter: theta_0_1, Before Shape: (2000, 6)\n",
      "Parameter: theta_0_2, Before Shape: (2000, 6)\n",
      "Parameter: theta_1_1, Before Shape: (2000, 8)\n",
      "Parameter: theta_1_2, Before Shape: (2000, 8)\n",
      "Parameter: omega_1, After Shape: (1000, 2, 25)\n",
      "Parameter: omega_2, After Shape: (1000, 2, 25)\n",
      "Parameter: psi_0_1, After Shape: (1000, 2)\n",
      "Parameter: psi_0_2, After Shape: (1000, 2)\n",
      "Parameter: psi_1_1, After Shape: (1000, 2)\n",
      "Parameter: psi_1_2, After Shape: (1000, 2)\n",
      "Parameter: rho_e, After Shape: (1000, 2)\n",
      "Parameter: rho_t, After Shape: (1000, 2)\n",
      "Parameter: sigma_rho_1, After Shape: (1000, 2)\n",
      "Parameter: sigma_rho_2, After Shape: (1000, 2)\n",
      "Parameter: theta_0_1, After Shape: (1000, 2, 6)\n",
      "Parameter: theta_0_2, After Shape: (1000, 2, 6)\n",
      "Parameter: theta_1_1, After Shape: (1000, 2, 8)\n",
      "Parameter: theta_1_2, After Shape: (1000, 2, 8)\n"
     ]
    }
   ],
   "execution_count": 2
  },
  {
   "metadata": {},
   "cell_type": "markdown",
   "source": [
    "The Python file `\"EEG_multi_pyro_GP_0.py\"` creates 1 SMGP model file:\n",
    "- `\"pyro_samples_K178.pkl\"`\n",
    "\n",
    "under the folder `\"./EEG_multi/K178\"`"
   ],
   "id": "dd78f73e0a20450c"
  },
  {
   "metadata": {},
   "cell_type": "markdown",
   "source": [
    "### 2 BLDA Reference Model Fitting\n",
    "\n",
    "Make sure you have installed the following Python modules:\n",
    "\n",
    "- numpy, pandas, scipy, seaborn, matplotlib, os\n",
    "- tqdm\n",
    "- jax, numpyro\n",
    "- sklearn, math\n",
    "- pickle\n",
    "\n",
    "Before running this file, you need to change the directory `\"file_path\"` to your own first."
   ],
   "id": "4412bc8c17e710fa"
  },
  {
   "metadata": {
    "ExecuteTime": {
     "end_time": "2025-05-27T10:40:44.163070Z",
     "start_time": "2025-05-27T10:23:57.760534Z"
    }
   },
   "cell_type": "code",
   "source": "%run -i \"E:/MSPH/EEG methodology/Advanced EEG Code/Code for GitHub/SMGP_BCI_EEG/Python/EEG_multi_reference_0.py\"",
   "id": "3e4effb367f0c8ac",
   "outputs": [
    {
     "name": "stderr",
     "output_type": "stream",
     "text": [
      "E:\\MSPH\\EEG methodology\\Advanced EEG Code\\Code for GitHub\\SMGP_BCI_EEG\\Python\\model_Func.py:518: UserWarning: There are not enough devices to run parallel chains: expected 2 but got 1. Chains will be drawn sequentially. If you are running MCMC in CPU, consider using `numpyro.set_host_device_count(2)` at the beginning of your program. You can double-check how many devices are available in your system using `jax.local_device_count()`.\n",
      "  mcmc = MCMC(kernel, num_samples=1000, num_warmup=2000, num_chains=2)\n",
      "sample: 100%|██████████| 3000/3000 [09:02<00:00,  5.53it/s, 31 steps of size 8.49e-02. acc. prob=0.91]   \n",
      "sample: 100%|██████████| 3000/3000 [07:42<00:00,  6.49it/s, 63 steps of size 8.33e-02. acc. prob=0.93]   "
     ]
    },
    {
     "name": "stdout",
     "output_type": "stream",
     "text": [
      "Parameter: psi_0_1, Before Shape: (2000,)\n",
      "Parameter: psi_0_2, Before Shape: (2000,)\n",
      "Parameter: psi_1_1, Before Shape: (2000,)\n",
      "Parameter: psi_1_2, Before Shape: (2000,)\n",
      "Parameter: rho_e, Before Shape: (2000,)\n",
      "Parameter: rho_t, Before Shape: (2000,)\n",
      "Parameter: sigma_rho_1, Before Shape: (2000,)\n",
      "Parameter: sigma_rho_2, Before Shape: (2000,)\n",
      "Parameter: theta_0_1, Before Shape: (2000, 6)\n",
      "Parameter: theta_0_2, Before Shape: (2000, 6)\n",
      "Parameter: theta_1_1, Before Shape: (2000, 8)\n",
      "Parameter: theta_1_2, Before Shape: (2000, 8)\n",
      "Parameter: psi_0_1, After Shape: (1000, 2)\n",
      "Parameter: psi_0_2, After Shape: (1000, 2)\n",
      "Parameter: psi_1_1, After Shape: (1000, 2)\n",
      "Parameter: psi_1_2, After Shape: (1000, 2)\n",
      "Parameter: rho_e, After Shape: (1000, 2)\n",
      "Parameter: rho_t, After Shape: (1000, 2)\n",
      "Parameter: sigma_rho_1, After Shape: (1000, 2)\n",
      "Parameter: sigma_rho_2, After Shape: (1000, 2)\n",
      "Parameter: theta_0_1, After Shape: (1000, 2, 6)\n",
      "Parameter: theta_0_2, After Shape: (1000, 2, 6)\n",
      "Parameter: theta_1_1, After Shape: (1000, 2, 8)\n",
      "Parameter: theta_1_2, After Shape: (1000, 2, 8)\n"
     ]
    },
    {
     "name": "stderr",
     "output_type": "stream",
     "text": [
      "\n"
     ]
    }
   ],
   "execution_count": 3
  },
  {
   "metadata": {},
   "cell_type": "markdown",
   "source": [
    "The Python file `\"EEG_multi_reference_0.py\"` creates 1 BLDA model file:\n",
    "- `\"pyro_samples_K178.pkl\"`\n",
    "\n",
    "under the folder `\"./EEG_multi_ref/K178\"`"
   ],
   "id": "be06cd942ea5c432"
  },
  {
   "metadata": {},
   "cell_type": "markdown",
   "source": [
    "### 3 SMGP Model Results\n",
    "\n",
    "Make sure you have installed the following Python modules:\n",
    "\n",
    "- numpy, pandas\n",
    "- scipy, matplotlib, os\n",
    "- tqdm\n",
    "- pickle\n",
    "\n",
    "Before running this file, you need to change the directory `\"file_path\"` to your own first."
   ],
   "id": "f9af0dae0fe40bcc"
  },
  {
   "metadata": {
    "ExecuteTime": {
     "end_time": "2025-05-27T10:47:45.733131Z",
     "start_time": "2025-05-27T10:47:11.924852Z"
    }
   },
   "cell_type": "code",
   "source": "%run -i \"E:/MSPH/EEG methodology/Advanced EEG Code/Code for GitHub/SMGP_BCI_EEG/Python/EEG_multi_visual_hard_0.py\"",
   "id": "2f929310f6fc65e4",
   "outputs": [],
   "execution_count": 4
  },
  {
   "metadata": {},
   "cell_type": "markdown",
   "source": [
    "The Python file `\"EEG_multi_visual_hard_0.py\"` creates a new folder `\"./EEG_multi/K178/R_plots\"` which includes 6 results files:\n",
    "- `\"beta_1.csv\"`\n",
    "- `\"beta_2.csv\"`\n",
    "- `\"zeta_1.csv\"`\n",
    "- `\"zeta_2.csv\"`\n",
    "- `\"train_acc.csv\"`\n",
    "- `\"test_acc.csv\"`"
   ],
   "id": "94db74b354c38962"
  },
  {
   "metadata": {},
   "cell_type": "markdown",
   "source": [
    "### 4 BLDA Model Results\n",
    "\n",
    "Make sure you have installed the following Python modules:\n",
    "\n",
    "- numpy, pandas\n",
    "- scipy, matplotlib, os\n",
    "- tqdm\n",
    "- pickle\n",
    "\n",
    "Before running this file, you need to change the directory `\"file_path\"` to your own first."
   ],
   "id": "ce0fcc8ad2f96fe3"
  },
  {
   "metadata": {
    "ExecuteTime": {
     "end_time": "2025-05-27T10:56:15.659876Z",
     "start_time": "2025-05-27T10:55:48.323936Z"
    }
   },
   "cell_type": "code",
   "source": "%run -i \"E:/MSPH/EEG methodology/Advanced EEG Code/Code for GitHub/SMGP_BCI_EEG/Python/EEG_multi_visual_0.py\"",
   "id": "f2070592ff023126",
   "outputs": [],
   "execution_count": 5
  },
  {
   "metadata": {},
   "cell_type": "markdown",
   "source": [
    "The Python file `\"EEG_multi_visual_0.py\"` creates a new folder `\"./EEG_multi_ref/K178/R_plots\"` which includes 4 results files:\n",
    "- `\"beta_1.csv\"`\n",
    "- `\"beta_2.csv\"`\n",
    "- `\"train_acc.csv\"`\n",
    "- `\"test_acc.csv\"`"
   ],
   "id": "e54b6c6edc5b2fe8"
  },
  {
   "metadata": {},
   "cell_type": "markdown",
   "source": [
    "### 5 swLDA Reference Model Fitting and Results\n",
    "\n",
    "Make sure you have installed the following Python modules:\n",
    "\n",
    "- numpy, pandas, scipy, matplotlib, os\n",
    "\n",
    "Before running the MATLAB file, you need to change the directory `\"file_path\"` to your own first.\n",
    "\n",
    "Before running the Python file, you need to change the directory `\"file_path\"` to your own first."
   ],
   "id": "a8b2efcfd7f6b34b"
  },
  {
   "metadata": {
    "ExecuteTime": {
     "end_time": "2025-05-27T11:02:39.157792Z",
     "start_time": "2025-05-27T11:02:38.840557Z"
    }
   },
   "cell_type": "code",
   "source": "!matlab -nodisplay -nosplash -r \"run('E:/MSPH/EEG methodology/Advanced EEG Code/Code for GitHub/SMGP_BCI_EEG/MATLAB/EEG_swLDA_fit_0.m'); exit;\"",
   "id": "f18cb95a866033e6",
   "outputs": [],
   "execution_count": 6
  },
  {
   "metadata": {},
   "cell_type": "markdown",
   "source": "The MATLAB file `\"EEG_swLDA_fit_0.m\"` creates a new MATLAB data file `\"K178_train_data_swLDA.mat\"` under the folder `\"./EEG_multi/K178\"`",
   "id": "c15056bf4290172f"
  },
  {
   "metadata": {
    "ExecuteTime": {
     "end_time": "2025-05-27T11:09:42.832181Z",
     "start_time": "2025-05-27T11:09:22.085797Z"
    }
   },
   "cell_type": "code",
   "source": "%run -i \"E:/MSPH/EEG methodology/Advanced EEG Code/Code for GitHub/SMGP_BCI_EEG/Python/EEG_multi_swLDA_predict_0.py\"",
   "id": "8d250a34d44d8dd2",
   "outputs": [],
   "execution_count": 8
  },
  {
   "metadata": {},
   "cell_type": "markdown",
   "source": [
    "The Python file `\"EEG_multi_swLDA_predict_0.py\"` creates 2 new results files:\n",
    "- `\"swLDA_train_accuracy.csv\"`\n",
    "- `\"swLDA_test_accuracy.csv\"`\n",
    "\n",
    "under the folder `\"./EEG_multi/K178/R_plots\"`"
   ],
   "id": "1e46adfbf2795cbe"
  },
  {
   "metadata": {},
   "cell_type": "markdown",
   "source": [
    "### 6 Results Visualization\n",
    "\n",
    "Make sure you have installed the following Python module:\n",
    "\n",
    "- subprocess\n",
    "\n",
    "Make sure you have installed the following R packages:\n",
    "\n",
    "- ggplot2\n",
    "- dplyr\n",
    "- tidyr\n"
   ],
   "id": "e48fc9b583f4af1f"
  },
  {
   "metadata": {
    "ExecuteTime": {
     "end_time": "2025-05-27T11:19:25.585657Z",
     "start_time": "2025-05-27T11:19:14.612804Z"
    }
   },
   "cell_type": "code",
   "source": [
    "import subprocess\n",
    "\n",
    "r_file = r\"E:/MSPH/EEG methodology/Advanced EEG Code/Code for GitHub/SMGP_BCI_EEG/R/EEG_multi_R_plot_0.R\"\n",
    "rscript_path = r\"D:/R-4.4.3/bin/Rscript.exe\"  # change to your Rscript path\n",
    "\n",
    "# Run the R script\n",
    "result = subprocess.run([rscript_path, r_file], capture_output=True, encoding=\"utf-8\", errors=\"ignore\")\n",
    "\n",
    "print(result.stdout)\n",
    "if result.stderr:\n",
    "    print(\"R script error output:\\n\", result.stderr)\n"
   ],
   "id": "afbcf7a7770b618e",
   "outputs": [
    {
     "name": "stdout",
     "output_type": "stream",
     "text": [
      "\n",
      "R script error output:\n",
      " \n",
      "Attaching package: 'dplyr'\n",
      "\n",
      "The following objects are masked from 'package:stats':\n",
      "\n",
      "    filter, lag\n",
      "\n",
      "The following objects are masked from 'package:base':\n",
      "\n",
      "    intersect, setdiff, setequal, union\n",
      "\n",
      "Scale for colour is already present.\n",
      "Adding another scale for colour, which will replace the existing scale.\n",
      "Scale for colour is already present.\n",
      "Adding another scale for colour, which will replace the existing scale.\n",
      "Scale for colour is already present.\n",
      "Adding another scale for colour, which will replace the existing scale.\n",
      "Scale for colour is already present.\n",
      "Adding another scale for colour, which will replace the existing scale.\n",
      "Warning message:\n",
      "A numeric `legend.position` argument in `theme()` was deprecated in ggplot2\n",
      "3.5.0.\n",
      "ℹ Please use the `legend.position.inside` argument of `theme()` instead. \n",
      "\n"
     ]
    }
   ],
   "execution_count": 9
  },
  {
   "metadata": {},
   "cell_type": "markdown",
   "source": [
    "The R file `\"EEG_multi_R_plot_0.R\"` creates 6 new plot files:\n",
    "- `\"beta_1.png\"`\n",
    "- `\"beta_2.png\"`\n",
    "- `\"zeta_1.png\"`\n",
    "- `\"zeta_2.png\"`\n",
    "- `\"train_acc.png\"`\n",
    "- `\"test_acc.png\"`\n",
    "\n",
    "under the folder `\"./EEG_multi/K178/R_plots\"`\n",
    "\n",
    "and 2 new plot files:\n",
    "- `\"beta_1.png\"`\n",
    "- `\"beta_2.png\"`\n",
    "\n",
    "under the folder `\"./EEG_multi_ref/K178/R_plots\"`"
   ],
   "id": "fa4f3c687f3d8ce6"
  }
 ],
 "metadata": {
  "kernelspec": {
   "display_name": "Python 3",
   "language": "python",
   "name": "python3"
  },
  "language_info": {
   "codemirror_mode": {
    "name": "ipython",
    "version": 2
   },
   "file_extension": ".py",
   "mimetype": "text/x-python",
   "name": "python",
   "nbconvert_exporter": "python",
   "pygments_lexer": "ipython2",
   "version": "2.7.6"
  }
 },
 "nbformat": 4,
 "nbformat_minor": 5
}
